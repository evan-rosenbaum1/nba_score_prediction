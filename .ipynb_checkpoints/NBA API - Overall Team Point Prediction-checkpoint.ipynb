{
 "cells": [
  {
   "cell_type": "markdown",
   "metadata": {},
   "source": [
    "# Overview\n",
    "The goal of this project is to predict the final score of an NBA playoff game based on the previous scoring activity of the teams who are playing on a given day. The code included is meant to be run the same day as the playoff game occuring.\n",
    "\n",
    "## Description of Data and Rationale\n",
    "\n",
    "### Current Season Regular Season Data\n",
    "Once the post season begins, we will be able to use all of the current regular season games to see how to the individual teams in question scored throughout the season. \n",
    "\n",
    "### Current Regular Season Games Post Trade Deadline\n",
    "Throughout a regular season trades can occur especially around the trade deadline. Post the trade deadline, the team is no longer able to be altered. As such, the games played after the trade deadline are more indicative of post season performance. \n",
    "\n",
    "### Current Season Games Against Each Other\n",
    "Throughout the season, each team should play the other between 3-4 times. These games should be weighted higher inside of the predicition model as they are games played directly between the two teams in question. \n",
    "\n",
    "### Current Season Games Against Each Other Post Trade Deadline (if applicable)\n",
    "Post the trade deadline, there is the potential that the teams that are in the post season have played against each other with their \"finalized\" roster. If these games exist, they should have be weighted higher than the current season games the two teams played against each other. \n",
    "\n",
    "### Post Season Games Against Each Other (if applicable)\n",
    "As the post progresses, there will be more games played between the teams in question that we can use. These games should have the highest weight as they are the most recent data point(s) we have. "
   ]
  },
  {
   "cell_type": "markdown",
   "metadata": {},
   "source": [
    "## Additional Items to Consider Adding\n",
    "\n",
    "### Injuries and Player Avaliability\n",
    "Look into the games where key player(s) were unavaliable and compare them to the games when the key player (s) returned.\n",
    "\n",
    "### Home/Away Performance\n",
    "Teams tend to perform differently at home versus on the road.\n",
    "\n",
    "### Pace of Play\n",
    "Some teams play faster or slower in comparison to other teams. This will affect the overall score of the game."
   ]
  },
  {
   "cell_type": "code",
   "execution_count": null,
   "metadata": {},
   "outputs": [],
   "source": []
  }
 ],
 "metadata": {
  "kernelspec": {
   "display_name": "Python 3",
   "language": "python",
   "name": "python3"
  },
  "language_info": {
   "codemirror_mode": {
    "name": "ipython",
    "version": 3
   },
   "file_extension": ".py",
   "mimetype": "text/x-python",
   "name": "python",
   "nbconvert_exporter": "python",
   "pygments_lexer": "ipython3",
   "version": "3.8.5"
  }
 },
 "nbformat": 4,
 "nbformat_minor": 4
}
