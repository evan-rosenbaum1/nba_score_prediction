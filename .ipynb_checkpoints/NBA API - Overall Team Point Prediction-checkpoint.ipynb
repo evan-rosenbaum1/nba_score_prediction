{
 "cells": [
  {
   "cell_type": "markdown",
   "metadata": {},
   "source": [
    "# Overview\n",
    "The goal of this project is to predict the final score of an NBA playoff game based on the previous scoring activity of the teams who are playing on a given day. The code included is meant to be run the same day as the playoff game occuring."
   ]
  },
  {
   "cell_type": "code",
   "execution_count": 106,
   "metadata": {},
   "outputs": [
    {
     "ename": "SyntaxError",
     "evalue": "invalid syntax (<ipython-input-106-8ccc6606947f>, line 2)",
     "output_type": "error",
     "traceback": [
      "\u001b[0;36m  File \u001b[0;32m\"<ipython-input-106-8ccc6606947f>\"\u001b[0;36m, line \u001b[0;32m2\u001b[0m\n\u001b[0;31m    pip install nba_api\u001b[0m\n\u001b[0m        ^\u001b[0m\n\u001b[0;31mSyntaxError\u001b[0m\u001b[0;31m:\u001b[0m invalid syntax\n"
     ]
    }
   ],
   "source": [
    "#Install the nba_api to pull down nba stats\n",
    "pip install nba_api"
   ]
  },
  {
   "cell_type": "code",
   "execution_count": 178,
   "metadata": {},
   "outputs": [],
   "source": [
    "#Importing Packages\n",
    "import pandas as pd\n",
    "import pprint\n",
    "from nba_api.stats.endpoints import playercareerstats, leaguegamefinder\n",
    "from nba_api.live.nba.endpoints import scoreboard"
   ]
  },
  {
   "cell_type": "code",
   "execution_count": 108,
   "metadata": {},
   "outputs": [],
   "source": [
    "#Hardcoding important season dates\n",
    "season_start_date = '2023-10-24'\n",
    "season_end_date = '2024-04-14'\n",
    "trade_deadline_date = '2024-02-08'"
   ]
  },
  {
   "cell_type": "code",
   "execution_count": 109,
   "metadata": {},
   "outputs": [],
   "source": [
    "#Pull the Game Information for Today's Games and returns the game id and home/away team ids\n",
    "def get_todays_ids():\n",
    "    #Pulls in the current day's games from the NBA API and stores the values as a list\n",
    "    games = scoreboard.ScoreBoard()\n",
    "    todays_game_dict = games.get_dict()\n",
    "    games_list = todays_game_dict['scoreboard']['games']\n",
    "    \n",
    "    #Loops through the the current day's games and creates a dictionary that holds parsed game information\n",
    "    team_id_list = []\n",
    "    for game in games_list:\n",
    "        team_id_dict = {\n",
    "            'game_id' : game['gameId'],\n",
    "            'home_team_name' : game['homeTeam']['teamName'],\n",
    "            'home_team_abbreviation' : game['homeTeam']['teamTricode'],\n",
    "            'home_team_id' : game['homeTeam']['teamId'],\n",
    "            'away_team_name' : game['awayTeam']['teamName'],\n",
    "            'away_team_abbreviation' : game['awayTeam']['teamTricode'],\n",
    "            'away_team_id' : game['awayTeam']['teamId']\n",
    "        }\n",
    "        team_id_list.append(team_id_dict)\n",
    "    return team_id_list"
   ]
  },
  {
   "cell_type": "code",
   "execution_count": 175,
   "metadata": {},
   "outputs": [
    {
     "data": {
      "text/plain": [
       "['Mavericks']"
      ]
     },
     "execution_count": 175,
     "metadata": {},
     "output_type": "execute_result"
    }
   ],
   "source": [
    "#Get today's game information\n",
    "todays_games = get_todays_ids()\n",
    "\n",
    "home_teams = [game['home_team_name'] for game in todays_games]\n",
    "away_teams = [game['away_team_name'] for game in todays_games]"
   ]
  },
  {
   "cell_type": "code",
   "execution_count": 111,
   "metadata": {},
   "outputs": [],
   "source": [
    "#Create a dictionary of DataFrames that contains all games played by the teams who are facing each other today\n",
    "games_dict = {}"
   ]
  },
  {
   "cell_type": "code",
   "execution_count": 112,
   "metadata": {},
   "outputs": [],
   "source": [
    "for game in todays_games:\n",
    "    \n",
    "    #Adding dictionary key and h2h filter strings\n",
    "    game_identifier = f\"{game['home_team_name']} vs {game['away_team_name']}\"\n",
    "    h2h_home_team_home_matchup_string = f\"{game['home_team_abbreviation']} vs. {game['away_team_abbreviation']}\"\n",
    "    h2h_home_team_away_matchup_string = f\"{game['home_team_abbreviation']} @ {game['away_team_abbreviation']}\"\n",
    "    \n",
    "    #Pulling in the individual game information played by the home teams\n",
    "    gamefinder = leaguegamefinder.LeagueGameFinder(team_id_nullable=game['home_team_id'])\n",
    "    home_team_games_df = gamefinder.get_data_frames()[0]\n",
    "    gamefinder = leaguegamefinder.LeagueGameFinder(team_id_nullable=game['away_team_id'])\n",
    "    away_team_games_df = gamefinder.get_data_frames()[0]\n",
    "    \n",
    "    #Filtering the Home DataFrame so we see all games (that have occurred) from this season.\n",
    "    home_team_games_df = home_team_games_df[\n",
    "        (home_team_games_df['GAME_DATE'] >= season_start_date)\n",
    "    ]\n",
    "    \n",
    "    #Filtering the Home DataFrame so we see all games (that have occurred) from this season. \n",
    "    away_team_games_df = away_team_games_df[\n",
    "        (away_team_games_df['GAME_DATE'] >= season_start_date)\n",
    "    ]\n",
    "    \n",
    "    #Merge the DataFrames\n",
    "    merged_df = home_team_games_df.merge(away_team_games_df, how='outer')\n",
    "    \n",
    "    #Drop NaN values and reset the index to 0\n",
    "    merged_df.reset_index(drop=True, inplace=True)\n",
    "    \n",
    "    #Store the DataFrame in the Dictionary\n",
    "    games_dict[game_identifier] = merged_df"
   ]
  },
  {
   "cell_type": "code",
   "execution_count": 113,
   "metadata": {},
   "outputs": [],
   "source": [
    "#Adding in additional column labels to each DataFrame\n",
    "for matchup, df in games_dict.items():\n",
    "        df['is_regular_season'] = (df['GAME_DATE'] >= season_start_date) & (df['GAME_DATE'] <= season_end_date)\n",
    "        df['is_past_trade_deadline'] = (df['GAME_DATE'] >= trade_deadline_date) & (df['GAME_DATE'] <= season_end_date)\n",
    "        df['is_h2h_matchup'] = (df['MATCHUP'] == h2h_home_team_home_matchup_string) | (df['MATCHUP'] == h2h_home_team_away_matchup_string)\n",
    "        df['is_post_season'] = (df['GAME_DATE'] > season_end_date)\n"
   ]
  },
  {
   "cell_type": "code",
   "execution_count": 114,
   "metadata": {},
   "outputs": [],
   "source": [
    "#All Games (to date) DataFrame Selector\n",
    "def get_matchup_df(games_dict):\n",
    "    print(\"Select a game to view:\")\n",
    "    for i, matchup in enumerate(games_dict.keys()):\n",
    "        print(f\"{i + 1}. {matchup}\")\n",
    "    \n",
    "    while True:\n",
    "        selection = int(input(\"Enter the number of the game you want to view: \"))\n",
    "        if 1 <= selection <= len(games_dict):\n",
    "            return list(games_dict.values())[selection - 1]\n",
    "        else:\n",
    "            print(\"Invalid selection. Please enter a number within the range.\")"
   ]
  },
  {
   "cell_type": "code",
   "execution_count": 170,
   "metadata": {},
   "outputs": [],
   "source": [
    "#Create a dictionary of DataFrames that contains all the aggregated stats (to date) of the teams who are facing each other today\n",
    "game_agg_team_stats_df = {}"
   ]
  },
  {
   "cell_type": "code",
   "execution_count": 172,
   "metadata": {},
   "outputs": [],
   "source": [
    "for game in todays_games:\n",
    "    game_identifier = f\"{game['home_team_name']} vs {game['away_team_name']}\"\n",
    "    \n",
    "    #Pull in the matchup DataFrame\n",
    "    game_df = games_dict[game_identifier]\n",
    "    \n",
    "    #Group by the team id so we can see what each teams aggregated metrics are\n",
    "    team_stats_df = game_df.groupby('TEAM_ID').mean()\n",
    "    \n",
    "    #Filter by the columns we need and rename them\n",
    "    team_stats_df = team_stats_df[['PTS', 'FGA', 'FGM', 'FG3A', 'FG3M']]\n",
    "    team_stats_df.columns = ['AVG_PTS', 'AVG_FGA', 'AVG_FGM', 'AVG_FG3A', 'AVG_FG3M']\n",
    "    \n",
    "    #Make the DataFrame 0 indexed\n",
    "    team_stats_df.reset_index(inplace=True)\n",
    "    \n",
    "    #Store the DataFrame in the dictionary\n",
    "    game_agg_team_stats_df[game_identifier] = team_stats_df"
   ]
  }
 ],
 "metadata": {
  "kernelspec": {
   "display_name": "Python 3",
   "language": "python",
   "name": "python3"
  },
  "language_info": {
   "codemirror_mode": {
    "name": "ipython",
    "version": 3
   },
   "file_extension": ".py",
   "mimetype": "text/x-python",
   "name": "python",
   "nbconvert_exporter": "python",
   "pygments_lexer": "ipython3",
   "version": "3.8.5"
  }
 },
 "nbformat": 4,
 "nbformat_minor": 4
}
