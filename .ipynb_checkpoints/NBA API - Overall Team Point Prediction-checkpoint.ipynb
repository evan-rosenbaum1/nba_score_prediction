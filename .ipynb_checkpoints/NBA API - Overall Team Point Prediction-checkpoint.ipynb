{
 "cells": [
  {
   "cell_type": "markdown",
   "metadata": {},
   "source": [
    "# Overview\n",
    "The goal of this project is to predict the final score of an NBA playoff game based on the previous scoring activity of the teams who are playing on a given day. The code included is meant to be run the same day as the playoff game occuring.\n",
    "\n",
    "## Description of Data and Rationale\n",
    "\n",
    "### Current Season Regular Season Data\n",
    "Once the post season begins, we will be able to use all of the current regular season games to see how to the individual teams in question scored throughout the season. \n",
    "\n",
    "### Current Regular Season Games Post Trade Deadline\n",
    "Throughout a regular season trades can occur especially around the trade deadline. Post the trade deadline, the team is no longer able to be altered. As such, the games played after the trade deadline are more indicative of post season performance. \n",
    "\n",
    "### Current Season Games Against Each Other\n",
    "Throughout the season, each team should play the other between 3-4 times. These games should be weighted higher inside of the predicition model as they are games played directly between the two teams in question. \n",
    "\n",
    "### Current Season Games Against Each Other Post Trade Deadline (if applicable)\n",
    "Post the trade deadline, there is the potential that the teams that are in the post season have played against each other with their \"finalized\" roster. If these games exist, they should have be weighted higher than the current season games the two teams played against each other. \n",
    "\n",
    "### Post Season Games Against Each Other (if applicable)\n",
    "As the post progresses, there will be more games played between the teams in question that we can use. These games should have the highest weight as they are the most recent data point(s) we have. "
   ]
  },
  {
   "cell_type": "markdown",
   "metadata": {},
   "source": [
    "## Additional Items to Consider Adding\n",
    "\n",
    "### Injuries and Player Avaliability\n",
    "Look into the games where key player(s) were unavaliable and compare them to the games when the key player (s) returned.\n",
    "\n",
    "### Home/Away Performance\n",
    "Teams tend to perform differently at home versus on the road.\n",
    "\n",
    "### Pace of Play\n",
    "Some teams play faster or slower in comparison to other teams. This will affect the overall score of the game."
   ]
  },
  {
   "cell_type": "code",
   "execution_count": 7,
   "metadata": {},
   "outputs": [
    {
     "name": "stdout",
     "output_type": "stream",
     "text": [
      "Requirement already satisfied: nba_api in /opt/anaconda3/envs/learn-env/lib/python3.8/site-packages (1.4.1)\n",
      "Requirement already satisfied: numpy<2.0.0,>=1.22.2 in /opt/anaconda3/envs/learn-env/lib/python3.8/site-packages (from nba_api) (1.24.4)\n",
      "Requirement already satisfied: certifi<2024.0.0,>=2023.7.22 in /opt/anaconda3/envs/learn-env/lib/python3.8/site-packages (from nba_api) (2023.11.17)\n",
      "Requirement already satisfied: requests<3.0,>=2.31 in /opt/anaconda3/envs/learn-env/lib/python3.8/site-packages (from nba_api) (2.32.2)\n",
      "Requirement already satisfied: urllib3<3,>=1.21.1 in /opt/anaconda3/envs/learn-env/lib/python3.8/site-packages (from requests<3.0,>=2.31->nba_api) (1.25.10)\n",
      "Requirement already satisfied: idna<4,>=2.5 in /opt/anaconda3/envs/learn-env/lib/python3.8/site-packages (from requests<3.0,>=2.31->nba_api) (2.10)\n",
      "Requirement already satisfied: charset-normalizer<4,>=2 in /opt/anaconda3/envs/learn-env/lib/python3.8/site-packages (from requests<3.0,>=2.31->nba_api) (3.3.2)\n",
      "Note: you may need to restart the kernel to use updated packages.\n"
     ]
    }
   ],
   "source": [
    "#Install the nba_api to pull down nba stats\n",
    "pip install nba_api"
   ]
  },
  {
   "cell_type": "code",
   "execution_count": 8,
   "metadata": {},
   "outputs": [],
   "source": [
    "#Importing Packages\n",
    "import pandas as pd\n",
    "import pprint\n",
    "from nba_api.stats.endpoints import playercareerstats\n",
    "from nba_api.live.nba.endpoints import scoreboard\n",
    "from nba_api.stats.endpoints import leaguegamefinder\n",
    "from nba_api.stats.endpoints import boxscoretraditionalv2"
   ]
  },
  {
   "cell_type": "code",
   "execution_count": 9,
   "metadata": {},
   "outputs": [],
   "source": [
    "#Hardcoding important season dates\n",
    "season_start_date = '2023-10-24'\n",
    "season_end_date = '2024-04-14'\n",
    "trade_deadline_date = '2024-02-08'"
   ]
  },
  {
   "cell_type": "code",
   "execution_count": 10,
   "metadata": {},
   "outputs": [],
   "source": [
    "#Pull the Game Information for Today's Games and returns the game id and home/away team ids\n",
    "def get_todays_ids():\n",
    "    games = scoreboard.ScoreBoard()\n",
    "    todays_game_dict = games.get_dict()\n",
    "    games_list = todays_game_dict['scoreboard']['games']\n",
    "    team_id_list = []\n",
    "    for game in games_list:\n",
    "        team_id_dict = {\n",
    "            'game_id' : game['gameId'],\n",
    "            'home_team_name' : game['homeTeam']['teamName'],\n",
    "            'home_team_abbreviation' : game['homeTeam']['teamTricode'],\n",
    "            'home_team_id' : game['homeTeam']['teamId'],\n",
    "            'away_team_name' : game['awayTeam']['teamName'],\n",
    "            'away_team_abbreviation' : game['awayTeam']['teamTricode'],\n",
    "            'away_team_id' : game['awayTeam']['teamId']\n",
    "        }\n",
    "        team_id_list.append(team_id_dict)\n",
    "    return team_id_list"
   ]
  },
  {
   "cell_type": "code",
   "execution_count": 11,
   "metadata": {},
   "outputs": [
    {
     "data": {
      "text/plain": [
       "[{'game_id': '0042300301',\n",
       "  'home_team_name': 'Celtics',\n",
       "  'home_team_abbreviation': 'BOS',\n",
       "  'home_team_id': 1610612738,\n",
       "  'away_team_name': 'Pacers',\n",
       "  'away_team_abbreviation': 'IND',\n",
       "  'away_team_id': 1610612754}]"
      ]
     },
     "execution_count": 11,
     "metadata": {},
     "output_type": "execute_result"
    }
   ],
   "source": [
    "#Get today's game information\n",
    "todays_games = get_todays_ids()\n",
    "\n",
    "todays_games"
   ]
  },
  {
   "cell_type": "code",
   "execution_count": null,
   "metadata": {},
   "outputs": [],
   "source": []
  }
 ],
 "metadata": {
  "kernelspec": {
   "display_name": "Python 3",
   "language": "python",
   "name": "python3"
  },
  "language_info": {
   "codemirror_mode": {
    "name": "ipython",
    "version": 3
   },
   "file_extension": ".py",
   "mimetype": "text/x-python",
   "name": "python",
   "nbconvert_exporter": "python",
   "pygments_lexer": "ipython3",
   "version": "3.8.5"
  }
 },
 "nbformat": 4,
 "nbformat_minor": 4
}
